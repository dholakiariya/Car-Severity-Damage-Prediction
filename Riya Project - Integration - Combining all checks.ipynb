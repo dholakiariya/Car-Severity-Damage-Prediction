{
 "cells": [
  {
   "cell_type": "code",
   "execution_count": 1,
   "metadata": {},
   "outputs": [],
   "source": [
    "#Import Libraries and Packages\n",
    "\n",
    "import os\n",
    "import json\n",
    "\n",
    "# keras imports\n",
    "from keras.preprocessing.image import img_to_array, load_img\n",
    "from keras.utils.data_utils import get_file\n",
    "from keras.applications.vgg16 import VGG16, preprocess_input\n",
    "from keras.preprocessing import image\n",
    "from keras.models import Model\n",
    "\n",
    "\n",
    "import h5py\n",
    "import numpy as np\n",
    "import pickle as pk\n",
    "\n",
    "import logging\n",
    "logging.getLogger('tensorflow').disabled = True"
   ]
  },
  {
   "cell_type": "code",
   "execution_count": 2,
   "metadata": {},
   "outputs": [],
   "source": [
    "import warnings\n",
    "warnings.filterwarnings('ignore')"
   ]
  },
  {
   "cell_type": "code",
   "execution_count": 3,
   "metadata": {},
   "outputs": [],
   "source": [
    "#Loading Models for various checks\n",
    "first_check = VGG16(weights='imagenet')\n",
    "second_check = pk.load(open(\"/Users/rishitdholakia/Desktop/Car Damage Detection project/Car Damage check/classifier.pickle\", 'rb')) #damaged vs whole\n",
    "third_check = pk.load(open(\"/Users/rishitdholakia/Desktop/Car Damage Detection project/FRS/classifier.pickle\", 'rb')) # Front Rear Side\n",
    "fourth_check = pk.load(open(\"/Users/rishitdholakia/Desktop/Car Damage Detection project/Severity/classifier.pickle\", 'rb')) # Minor Moderate Severe"
   ]
  },
  {
   "cell_type": "code",
   "execution_count": 4,
   "metadata": {},
   "outputs": [],
   "source": [
    "# Loading  valid categories for identifying cars using VGG16\n",
    "with open('/Users/rishitdholakia/Desktop/Car Damage Detection project/cat_counter.pk', 'rb') as f:\n",
    "    cat_counter = pk.load(f)"
   ]
  },
  {
   "cell_type": "code",
   "execution_count": 5,
   "metadata": {},
   "outputs": [
    {
     "data": {
      "text/plain": [
       "Counter({('n04285008', 'sports_car'): 28.853904586285353,\n",
       "         ('n04037443', 'racer'): 7.548823233228177,\n",
       "         ('n03100240', 'convertible'): 22.27065716101788,\n",
       "         ('n02974003', 'car_wheel'): 5.018784584943205,\n",
       "         ('n02814533', 'beach_wagon'): 21.272268172120675,\n",
       "         ('n03930630', 'pickup'): 17.554288666695356,\n",
       "         ('n02930766', 'cab'): 6.648977704113349,\n",
       "         ('n03710193', 'mailbox'): 0.11574728786945343,\n",
       "         ('n03425413', 'gas_pump'): 0.09956557303667068,\n",
       "         ('n03902125', 'pay-phone'): 0.07892029732465744,\n",
       "         ('n02791270', 'barbershop'): 0.06867709010839462,\n",
       "         ('n04461696', 'tow_truck'): 4.083389501320198,\n",
       "         ('n03977966', 'police_van'): 2.266874913824722,\n",
       "         ('n03770679', 'minivan'): 35.39320989861153,\n",
       "         ('n03670208', 'limousine'): 12.064467553049326,\n",
       "         ('n03445924', 'golfcart'): 0.8001158833503723,\n",
       "         ('n03459775', 'grille'): 4.1132087131845765,\n",
       "         ('n03769881', 'minibus'): 3.6504267731215805,\n",
       "         ('n02701002', 'ambulance'): 1.273384262691252,\n",
       "         ('n03594945', 'jeep'): 6.297781702363864,\n",
       "         ('n03417042', 'garbage_truck'): 0.4528804309666157,\n",
       "         ('n03796401', 'moving_van'): 3.0337970033288,\n",
       "         ('n04252225', 'snowplow'): 1.1316839797364082,\n",
       "         ('n04465501', 'tractor'): 0.01639496721327305,\n",
       "         ('n03478589', 'half_track'): 0.4074339475482702,\n",
       "         ('n04065272', 'recreational_vehicle'): 1.593459407798946,\n",
       "         ('n03345487', 'fire_engine'): 0.05010239873081446,\n",
       "         ('n04613696', 'yurt'): 0.051515012979507446,\n",
       "         ('n03384352', 'forklift'): 0.350821316242218,\n",
       "         ('n02965783', 'car_mirror'): 0.2998924497514963,\n",
       "         ('n02704792', 'amphibian'): 0.33076150342822075,\n",
       "         ('n04467665', 'trailer_truck'): 0.5593058932572603,\n",
       "         ('n03777568', 'Model_T'): 0.8845773339271545,\n",
       "         ('n03776460', 'mobile_home'): 0.12374703213572502,\n",
       "         ('n04069434', 'reflex_camera'): 0.07055654376745224,\n",
       "         ('n04264628', 'space_bar'): 0.030623750761151314,\n",
       "         ('n04204347', 'shopping_cart'): 0.08634921908378601,\n",
       "         ('n03791053', 'motor_scooter'): 0.06527034193277359,\n",
       "         ('n04517823', 'vacuum'): 0.10549970716238022,\n",
       "         ('n03891332', 'parking_meter'): 0.11133110895752907,\n",
       "         ('n03895866', 'passenger_car'): 0.006710623390972614,\n",
       "         ('n04146614', 'school_bus'): 0.0057261111214756966,\n",
       "         ('n03032252', 'cinema'): 0.16016654670238495,\n",
       "         ('n06794110', 'street_sign'): 0.05181441828608513,\n",
       "         ('n04004767', 'printer'): 0.06704746186733246})"
      ]
     },
     "execution_count": 5,
     "metadata": {},
     "output_type": "execute_result"
    }
   ],
   "source": [
    "cat_counter"
   ]
  },
  {
   "cell_type": "code",
   "execution_count": 6,
   "metadata": {},
   "outputs": [],
   "source": [
    "# shortlisting top 27 Categories that VGG16 stores for cars (Can be altered for less or more)\n",
    "cat_list  = [k for k, v in cat_counter.most_common()[:27]]"
   ]
  },
  {
   "cell_type": "code",
   "execution_count": 7,
   "metadata": {},
   "outputs": [
    {
     "data": {
      "text/plain": [
       "[('n03770679', 'minivan'),\n",
       " ('n04285008', 'sports_car'),\n",
       " ('n03100240', 'convertible'),\n",
       " ('n02814533', 'beach_wagon'),\n",
       " ('n03930630', 'pickup'),\n",
       " ('n03670208', 'limousine'),\n",
       " ('n04037443', 'racer'),\n",
       " ('n02930766', 'cab'),\n",
       " ('n03594945', 'jeep'),\n",
       " ('n02974003', 'car_wheel'),\n",
       " ('n03459775', 'grille'),\n",
       " ('n04461696', 'tow_truck'),\n",
       " ('n03769881', 'minibus'),\n",
       " ('n03796401', 'moving_van'),\n",
       " ('n03977966', 'police_van'),\n",
       " ('n04065272', 'recreational_vehicle'),\n",
       " ('n02701002', 'ambulance'),\n",
       " ('n04252225', 'snowplow'),\n",
       " ('n03777568', 'Model_T'),\n",
       " ('n03445924', 'golfcart'),\n",
       " ('n04467665', 'trailer_truck'),\n",
       " ('n03417042', 'garbage_truck'),\n",
       " ('n03478589', 'half_track'),\n",
       " ('n03384352', 'forklift'),\n",
       " ('n02704792', 'amphibian'),\n",
       " ('n02965783', 'car_mirror'),\n",
       " ('n03032252', 'cinema')]"
      ]
     },
     "execution_count": 7,
     "metadata": {},
     "output_type": "execute_result"
    }
   ],
   "source": [
    "cat_list"
   ]
  },
  {
   "cell_type": "markdown",
   "metadata": {},
   "source": [
    "First Check - Car or not"
   ]
  },
  {
   "cell_type": "code",
   "execution_count": 8,
   "metadata": {},
   "outputs": [],
   "source": [
    "CLASS_INDEX = None"
   ]
  },
  {
   "cell_type": "code",
   "execution_count": 9,
   "metadata": {},
   "outputs": [],
   "source": [
    "CLASS_INDEX_PATH = '/Users/rishitdholakia/Desktop/Car Damage Detection project/imagenet_class_index.json'"
   ]
  },
  {
   "cell_type": "code",
   "execution_count": 10,
   "metadata": {},
   "outputs": [],
   "source": [
    "def get_predictions(preds,top=5):\n",
    "    global CLASS_INDEX\n",
    "    \n",
    "    #Load the jason file\n",
    "    CLASS_INDEX = json.load(open(CLASS_INDEX_PATH))\n",
    "    \n",
    "    #get the results\n",
    "    results = []\n",
    "    for pred in preds:\n",
    "        top_indices = pred.argsort()[-top:][::-1]\n",
    "        result = [tuple(CLASS_INDEX[str(i)]) + (pred[i],) for i in top_indices]\n",
    "        result.sort(key=lambda x: x[2], reverse=True)\n",
    "        results.append(result)\n",
    "    return results"
   ]
  },
  {
   "cell_type": "code",
   "execution_count": 11,
   "metadata": {},
   "outputs": [],
   "source": [
    "def prepare_img_224(img_path):\n",
    "    img = load_img(img_path, target_size=(224, 224))\n",
    "    x = img_to_array(img)\n",
    "    x = np.expand_dims(x, axis=0)\n",
    "    x = preprocess_input(x)\n",
    "    return x"
   ]
  },
  {
   "cell_type": "code",
   "execution_count": 12,
   "metadata": {},
   "outputs": [],
   "source": [
    "def car_categories_check(img_224, model):\n",
    "    print (\"Validating that this is a picture of your car...\")\n",
    "    out = model.predict(prepare_img_224(img_224))\n",
    "    top = get_predictions(out, top=5)\n",
    "    for j in top[0]:\n",
    "        if j[0:2] in cat_list:\n",
    "            print (\"Car Check Passed!!!\")\n",
    "            print (\"\\n\")\n",
    "            return True \n",
    "    return False "
   ]
  },
  {
   "cell_type": "code",
   "execution_count": 13,
   "metadata": {},
   "outputs": [],
   "source": [
    "#car_categories_check('/Users/rishitdholakia/Desktop/damaged car.jpeg',VGG16(weights='imagenet'))\n",
    "#print(prepare_img_224('/Users/rishitdholakia/Desktop/damaged car.jpeg'))"
   ]
  },
  {
   "cell_type": "markdown",
   "metadata": {},
   "source": [
    "Second Check - Damaged or not"
   ]
  },
  {
   "cell_type": "code",
   "execution_count": 14,
   "metadata": {},
   "outputs": [],
   "source": [
    "def get_features(img_path):\n",
    "    model = Model(first_check.input,first_check.get_layer('fc1').output)\n",
    "    image_size = (224, 224)\n",
    "    img = image.load_img(img_path, target_size=image_size)\n",
    "    x = image.img_to_array(img)\n",
    "    x = np.expand_dims(x, axis=0)\n",
    "    x = preprocess_input(x)\n",
    "    feature = model.predict(x)\n",
    "    flat = feature.flatten()\n",
    "    flat = np.expand_dims(flat, axis=0)\n",
    "    return flat"
   ]
  },
  {
   "cell_type": "code",
   "execution_count": 15,
   "metadata": {},
   "outputs": [],
   "source": [
    "def car_damage_check(classifier,features):\n",
    "    print (\"Validating that damage exists...\")\n",
    "    train_labels = ['Damaged', 'Not Damaged']\n",
    "    preds = classifier.predict(features)\n",
    "    prediction = train_labels[preds[0]]\n",
    "    \n",
    "    if train_labels[preds[0]] == 'Damaged':\n",
    "        print (\"Validation complete - proceeding to location and severity determination\")\n",
    "        print (\"\\n\")\n",
    "        return True \n",
    "    else:\n",
    "        return False"
   ]
  },
  {
   "cell_type": "markdown",
   "metadata": {},
   "source": [
    "Third Check - Location Assesment"
   ]
  },
  {
   "cell_type": "code",
   "execution_count": 16,
   "metadata": {},
   "outputs": [],
   "source": [
    "def location_assessment(classifier,features):\n",
    "    print (\"Validating the damage area - Front, Rear or Side\")\n",
    "    train_labels = ['Front', 'Rear', 'Side']\n",
    "    preds = classifier.predict(features)\n",
    "    prediction = train_labels[preds[0]]\n",
    "    print (\"Your Car is damaged at - \" + train_labels[preds[0]])\n",
    "    print (\"Location assesment complete\")\n",
    "    print(\"\\n\")"
   ]
  },
  {
   "cell_type": "markdown",
   "metadata": {},
   "source": [
    "Fourth Check - Location Assesment"
   ]
  },
  {
   "cell_type": "code",
   "execution_count": 17,
   "metadata": {},
   "outputs": [],
   "source": [
    "def severity_assessment(classifier,features):\n",
    "    print (\"Validating the Severity...\")\n",
    "    train_labels = ['Minor Damage', 'Moderate Damage', 'Severe Damage']\n",
    "    preds = classifier.predict(features)\n",
    "    prediction = train_labels[preds[0]]\n",
    "    print (\"Your Car damage impact is - \" + train_labels[preds[0]])\n",
    "    print (\"Severity assesment complete\")\n",
    "    print (\"\\n\")"
   ]
  },
  {
   "cell_type": "markdown",
   "metadata": {},
   "source": [
    "Engine"
   ]
  },
  {
   "cell_type": "code",
   "execution_count": 18,
   "metadata": {},
   "outputs": [],
   "source": [
    "def engine(img_path):\n",
    "    while True:\n",
    "        try:\n",
    "            g1 = car_categories_check(img_path, first_check)\n",
    "            if g1 is False:\n",
    "                print (\"Are you sure this is a picture of your car? Please submit another picture of the damage.\")\n",
    "                print (\"Hint: Try zooming in/out, using a different angle or different lighting.\")\n",
    "                break\n",
    "            features=get_features(img_path)\n",
    "            g2 = car_damage_check(second_check,features)\n",
    "\n",
    "            if g2 is False:\n",
    "                print (\"Are you sure that your car is damaged? Please submit another picture of the damage.\")\n",
    "                print (\"Hint: Try zooming in/out, using a different angle or different lighting.\")\n",
    "                break\n",
    "\n",
    "            location_assessment(third_check,features)\n",
    "            severity_assessment(fourth_check,features)\n",
    "            break\n",
    "        except:\n",
    "            print (\"Image not accessible. Please try again.\")\n",
    "            break"
   ]
  },
  {
   "cell_type": "code",
   "execution_count": 19,
   "metadata": {},
   "outputs": [],
   "source": [
    "img_path = '/Users/rishitdholakia/Desktop/Car Damage Detection project/data3a/validation/03-severe/22.jpg'"
   ]
  },
  {
   "cell_type": "code",
   "execution_count": 20,
   "metadata": {},
   "outputs": [
    {
     "name": "stdout",
     "output_type": "stream",
     "text": [
      "Validating that this is a picture of your car...\n",
      "Car Check Passed!!!\n",
      "\n",
      "\n",
      "Validating that damage exists...\n",
      "Validation complete - proceeding to location and severity determination\n",
      "\n",
      "\n",
      "Validating the damage area - Front, Rear or Side\n",
      "Your Car is damaged at - Front\n",
      "Location assesment complete\n",
      "\n",
      "\n",
      "Validating the Severity...\n",
      "Your Car damage impact is - Severe Damage\n",
      "Severity assesment complete\n",
      "\n",
      "\n"
     ]
    }
   ],
   "source": [
    "engine(img_path)"
   ]
  }
 ],
 "metadata": {
  "kernelspec": {
   "display_name": "Python 3",
   "language": "python",
   "name": "python3"
  },
  "language_info": {
   "codemirror_mode": {
    "name": "ipython",
    "version": 3
   },
   "file_extension": ".py",
   "mimetype": "text/x-python",
   "name": "python",
   "nbconvert_exporter": "python",
   "pygments_lexer": "ipython3",
   "version": "3.8.5"
  }
 },
 "nbformat": 4,
 "nbformat_minor": 2
}

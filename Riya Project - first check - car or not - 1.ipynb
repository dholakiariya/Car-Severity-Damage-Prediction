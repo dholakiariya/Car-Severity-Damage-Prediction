{
 "cells": [
  {
   "cell_type": "code",
   "execution_count": 2,
   "id": "narrative-watershed",
   "metadata": {},
   "outputs": [
    {
     "name": "stdout",
     "output_type": "stream",
     "text": [
      "Collecting numpy\n",
      "  Downloading numpy-1.20.1-cp38-cp38-macosx_10_9_x86_64.whl (16.0 MB)\n",
      "\u001b[K     |████████████████████████████████| 16.0 MB 2.4 MB/s eta 0:00:01\n",
      "\u001b[?25hInstalling collected packages: numpy\n",
      "Successfully installed numpy-1.20.1\n",
      "Note: you may need to restart the kernel to use updated packages.\n"
     ]
    }
   ],
   "source": [
    "pip install numpy"
   ]
  },
  {
   "cell_type": "code",
   "execution_count": 2,
   "id": "graduate-congo",
   "metadata": {},
   "outputs": [
    {
     "name": "stdout",
     "output_type": "stream",
     "text": [
      "Collecting keras\n",
      "  Using cached Keras-2.4.3-py2.py3-none-any.whl (36 kB)\n",
      "Collecting h5py\n",
      "  Downloading h5py-3.2.1-cp38-cp38-macosx_10_9_x86_64.whl (2.9 MB)\n",
      "\u001b[K     |████████████████████████████████| 2.9 MB 6.4 MB/s eta 0:00:01\n",
      "\u001b[?25hCollecting pyyaml\n",
      "  Downloading PyYAML-5.4.1-cp38-cp38-macosx_10_9_x86_64.whl (253 kB)\n",
      "\u001b[K     |████████████████████████████████| 253 kB 11.5 MB/s eta 0:00:01\n",
      "\u001b[?25hCollecting scipy>=0.14\n",
      "  Downloading scipy-1.6.1-cp38-cp38-macosx_10_9_x86_64.whl (30.8 MB)\n",
      "\u001b[K     |████████████████████████████████| 30.8 MB 10.2 MB/s eta 0:00:01\n",
      "\u001b[?25hRequirement already satisfied: numpy>=1.9.1 in /anaconda3/envs/newenv/lib/python3.8/site-packages (from keras) (1.20.1)\n",
      "Installing collected packages: h5py, pyyaml, scipy, keras\n",
      "Successfully installed h5py-3.2.1 keras-2.4.3 pyyaml-5.4.1 scipy-1.6.1\n",
      "Note: you may need to restart the kernel to use updated packages.\n"
     ]
    }
   ],
   "source": [
    "pip install keras"
   ]
  },
  {
   "cell_type": "code",
   "execution_count": 2,
   "id": "heated-sociology",
   "metadata": {},
   "outputs": [
    {
     "name": "stdout",
     "output_type": "stream",
     "text": [
      "Collecting tensorflow\n",
      "  Downloading tensorflow-2.4.1-cp38-cp38-macosx_10_11_x86_64.whl (173.9 MB)\n",
      "\u001b[K     |████████████████████████████████| 173.9 MB 2.6 kB/s eta 0:00:011  |█▍                              | 7.5 MB 6.8 MB/s eta 0:00:25     |██████████████████              | 97.3 MB 5.2 MB/s eta 0:00:15\n",
      "\u001b[?25hCollecting keras-preprocessing~=1.1.2\n",
      "  Using cached Keras_Preprocessing-1.1.2-py2.py3-none-any.whl (42 kB)\n",
      "Requirement already satisfied: wheel~=0.35 in /anaconda3/envs/newenv/lib/python3.8/site-packages (from tensorflow) (0.35.1)\n",
      "Collecting astunparse~=1.6.3\n",
      "  Using cached astunparse-1.6.3-py2.py3-none-any.whl (12 kB)\n",
      "Collecting protobuf>=3.9.2\n",
      "  Downloading protobuf-3.15.5-cp38-cp38-macosx_10_9_x86_64.whl (1.0 MB)\n",
      "\u001b[K     |████████████████████████████████| 1.0 MB 6.1 MB/s eta 0:00:01\n",
      "\u001b[?25hCollecting wrapt~=1.12.1\n",
      "  Using cached wrapt-1.12.1.tar.gz (27 kB)\n",
      "Collecting absl-py~=0.10\n",
      "  Using cached absl_py-0.12.0-py3-none-any.whl (129 kB)\n",
      "Collecting h5py~=2.10.0\n",
      "  Downloading h5py-2.10.0-cp38-cp38-macosx_10_9_x86_64.whl (3.0 MB)\n",
      "\u001b[K     |████████████████████████████████| 3.0 MB 11.5 MB/s eta 0:00:01\n",
      "\u001b[?25hCollecting opt-einsum~=3.3.0\n",
      "  Using cached opt_einsum-3.3.0-py3-none-any.whl (65 kB)\n",
      "Collecting tensorflow-estimator<2.5.0,>=2.4.0\n",
      "  Using cached tensorflow_estimator-2.4.0-py2.py3-none-any.whl (462 kB)\n",
      "Collecting flatbuffers~=1.12.0\n",
      "  Using cached flatbuffers-1.12-py2.py3-none-any.whl (15 kB)\n",
      "Collecting google-pasta~=0.2\n",
      "  Using cached google_pasta-0.2.0-py3-none-any.whl (57 kB)\n",
      "Collecting gast==0.3.3\n",
      "  Using cached gast-0.3.3-py2.py3-none-any.whl (9.7 kB)\n",
      "Requirement already satisfied: six~=1.15.0 in /anaconda3/envs/newenv/lib/python3.8/site-packages (from tensorflow) (1.15.0)\n",
      "Collecting tensorboard~=2.4\n",
      "  Using cached tensorboard-2.4.1-py3-none-any.whl (10.6 MB)\n",
      "Collecting termcolor~=1.1.0\n",
      "  Using cached termcolor-1.1.0.tar.gz (3.9 kB)\n",
      "Collecting grpcio~=1.32.0\n",
      "  Downloading grpcio-1.32.0-cp38-cp38-macosx_10_9_x86_64.whl (3.3 MB)\n",
      "\u001b[K     |████████████████████████████████| 3.3 MB 7.8 MB/s eta 0:00:01     |███████████████████████▎        | 2.4 MB 7.8 MB/s eta 0:00:01\n",
      "\u001b[?25hCollecting numpy~=1.19.2\n",
      "  Downloading numpy-1.19.5-cp38-cp38-macosx_10_9_x86_64.whl (15.6 MB)\n",
      "\u001b[K     |████████████████████████████████| 15.6 MB 7.6 MB/s eta 0:00:01\n",
      "\u001b[?25hCollecting typing-extensions~=3.7.4\n",
      "  Using cached typing_extensions-3.7.4.3-py3-none-any.whl (22 kB)\n",
      "Collecting tensorboard-plugin-wit>=1.6.0\n",
      "  Using cached tensorboard_plugin_wit-1.8.0-py3-none-any.whl (781 kB)\n",
      "Collecting google-auth-oauthlib<0.5,>=0.4.1\n",
      "  Using cached google_auth_oauthlib-0.4.3-py2.py3-none-any.whl (18 kB)\n",
      "Collecting google-auth<2,>=1.6.3\n",
      "  Using cached google_auth-1.27.1-py2.py3-none-any.whl (136 kB)\n",
      "Requirement already satisfied: setuptools>=41.0.0 in /anaconda3/envs/newenv/lib/python3.8/site-packages (from tensorboard~=2.4->tensorflow) (50.3.0.post20201006)\n",
      "Collecting requests<3,>=2.21.0\n",
      "  Using cached requests-2.25.1-py2.py3-none-any.whl (61 kB)\n",
      "Collecting markdown>=2.6.8\n",
      "  Using cached Markdown-3.3.4-py3-none-any.whl (97 kB)\n",
      "Collecting werkzeug>=0.11.15\n",
      "  Using cached Werkzeug-1.0.1-py2.py3-none-any.whl (298 kB)\n",
      "Collecting requests-oauthlib>=0.7.0\n",
      "  Using cached requests_oauthlib-1.3.0-py2.py3-none-any.whl (23 kB)\n",
      "Collecting rsa<5,>=3.1.4; python_version >= \"3.6\"\n",
      "  Using cached rsa-4.7.2-py3-none-any.whl (34 kB)\n",
      "Collecting pyasn1-modules>=0.2.1\n",
      "  Using cached pyasn1_modules-0.2.8-py2.py3-none-any.whl (155 kB)\n",
      "Collecting cachetools<5.0,>=2.0.0\n",
      "  Using cached cachetools-4.2.1-py3-none-any.whl (12 kB)\n",
      "Collecting idna<3,>=2.5\n",
      "  Using cached idna-2.10-py2.py3-none-any.whl (58 kB)\n",
      "Collecting chardet<5,>=3.0.2\n",
      "  Using cached chardet-4.0.0-py2.py3-none-any.whl (178 kB)\n",
      "Requirement already satisfied: certifi>=2017.4.17 in /anaconda3/envs/newenv/lib/python3.8/site-packages (from requests<3,>=2.21.0->tensorboard~=2.4->tensorflow) (2020.12.5)\n",
      "Collecting urllib3<1.27,>=1.21.1\n",
      "  Using cached urllib3-1.26.3-py2.py3-none-any.whl (137 kB)\n",
      "Collecting oauthlib>=3.0.0\n",
      "  Using cached oauthlib-3.1.0-py2.py3-none-any.whl (147 kB)\n",
      "Collecting pyasn1>=0.1.3\n",
      "  Using cached pyasn1-0.4.8-py2.py3-none-any.whl (77 kB)\n",
      "Building wheels for collected packages: wrapt, termcolor\n",
      "  Building wheel for wrapt (setup.py) ... \u001b[?25ldone\n",
      "\u001b[?25h  Created wheel for wrapt: filename=wrapt-1.12.1-cp38-cp38-macosx_10_9_x86_64.whl size=30921 sha256=7425090d718d02630ec8eea9e76ae55a0de21e40f3dfde17d831314a83bbf190\n",
      "  Stored in directory: /Users/rishitdholakia/Library/Caches/pip/wheels/5f/fd/9e/b6cf5890494cb8ef0b5eaff72e5d55a70fb56316007d6dfe73\n",
      "  Building wheel for termcolor (setup.py) ... \u001b[?25ldone\n",
      "\u001b[?25h  Created wheel for termcolor: filename=termcolor-1.1.0-py3-none-any.whl size=4830 sha256=c5e4e5fc7e3b6fa9f489b0129f85912730377f1a6133a941d56c19abdce75fe1\n",
      "  Stored in directory: /Users/rishitdholakia/Library/Caches/pip/wheels/a0/16/9c/5473df82468f958445479c59e784896fa24f4a5fc024b0f501\n",
      "Successfully built wrapt termcolor\n",
      "Installing collected packages: numpy, keras-preprocessing, astunparse, protobuf, wrapt, absl-py, h5py, opt-einsum, tensorflow-estimator, flatbuffers, google-pasta, gast, tensorboard-plugin-wit, pyasn1, rsa, pyasn1-modules, cachetools, google-auth, oauthlib, idna, chardet, urllib3, requests, requests-oauthlib, google-auth-oauthlib, markdown, werkzeug, grpcio, tensorboard, termcolor, typing-extensions, tensorflow\n",
      "  Attempting uninstall: numpy\n",
      "    Found existing installation: numpy 1.20.1\n",
      "    Uninstalling numpy-1.20.1:\n",
      "      Successfully uninstalled numpy-1.20.1\n",
      "  Attempting uninstall: h5py\n",
      "    Found existing installation: h5py 3.2.1\n",
      "    Uninstalling h5py-3.2.1:\n",
      "      Successfully uninstalled h5py-3.2.1\n",
      "Successfully installed absl-py-0.12.0 astunparse-1.6.3 cachetools-4.2.1 chardet-4.0.0 flatbuffers-1.12 gast-0.3.3 google-auth-1.27.1 google-auth-oauthlib-0.4.3 google-pasta-0.2.0 grpcio-1.32.0 h5py-2.10.0 idna-2.10 keras-preprocessing-1.1.2 markdown-3.3.4 numpy-1.19.5 oauthlib-3.1.0 opt-einsum-3.3.0 protobuf-3.15.5 pyasn1-0.4.8 pyasn1-modules-0.2.8 requests-2.25.1 requests-oauthlib-1.3.0 rsa-4.7.2 tensorboard-2.4.1 tensorboard-plugin-wit-1.8.0 tensorflow-2.4.1 tensorflow-estimator-2.4.0 termcolor-1.1.0 typing-extensions-3.7.4.3 urllib3-1.26.3 werkzeug-1.0.1 wrapt-1.12.1\n",
      "Note: you may need to restart the kernel to use updated packages.\n"
     ]
    }
   ],
   "source": [
    "pip install tensorflow"
   ]
  },
  {
   "cell_type": "code",
   "execution_count": 7,
   "id": "sealed-luther",
   "metadata": {},
   "outputs": [],
   "source": [
    "# Import Libraries\n",
    "import numpy as np\n",
    "import json\n",
    "\n",
    "from keras.applications.vgg16 import VGG16\n",
    "from keras.preprocessing.image import img_to_array, load_img\n",
    "from keras.applications.imagenet_utils import preprocess_input"
   ]
  },
  {
   "cell_type": "code",
   "execution_count": 2,
   "id": "sacred-electric",
   "metadata": {},
   "outputs": [],
   "source": [
    "#Upload vgg16\n",
    "vgg16=VGG16(weights='imagenet')"
   ]
  },
  {
   "cell_type": "code",
   "execution_count": 3,
   "id": "aquatic-faith",
   "metadata": {},
   "outputs": [],
   "source": [
    "vgg16.save('vgg16.h5')"
   ]
  },
  {
   "cell_type": "code",
   "execution_count": 10,
   "id": "alternate-payment",
   "metadata": {},
   "outputs": [],
   "source": [
    "def prepare_image(img_path):\n",
    "    img=load_img(img_path,target_size=(224,224)) #returns A PIL Image instance.\n",
    "    x=img_to_array(img)#returns 3D numpy array\n",
    "    x=np.expand_dims(x,axis=0) #https://stackoverflow.com/questions/47555829/preprocess-input-method-in-keras/47556342 -- we need extra dimension for number of samples as keras processes in batch\n",
    "    x=preprocess_input(x) #image_data_format is channel_last by default\n",
    "    # https://github.com/tensorflow/tensorflow/blob/85c8b2a817f95a3e979ecd1ed95bff1dc1335cff/tensorflow/python/keras/applications/imagenet_utils.py#L115\n",
    "    # @keras_export('keras.applications.imagenet_utils.preprocess_input') def _preprocess_numpy_input(x, data_format, mode)\n",
    "    \n",
    "    #the last part uses the 'caffe' default mode i.e.converts rgb to bgr and centres the data for every channel around 0 (dosnt scale)\n",
    "    return x"
   ]
  },
  {
   "cell_type": "code",
   "execution_count": 74,
   "id": "composed-maria",
   "metadata": {},
   "outputs": [
    {
     "name": "stdout",
     "output_type": "stream",
     "text": [
      "Collecting pillow\n",
      "  Downloading Pillow-8.1.2-cp38-cp38-macosx_10_10_x86_64.whl (2.2 MB)\n",
      "\u001b[K     |████████████████████████████████| 2.2 MB 1.8 MB/s eta 0:00:01\n",
      "\u001b[?25hInstalling collected packages: pillow\n",
      "Successfully installed pillow-8.1.2\n",
      "Note: you may need to restart the kernel to use updated packages.\n"
     ]
    }
   ],
   "source": [
    "pip install pillow # need to install for PIL"
   ]
  },
  {
   "cell_type": "code",
   "execution_count": 11,
   "id": "lovely-verse",
   "metadata": {},
   "outputs": [],
   "source": [
    "y = prepare_image('/Users/rishitdholakia/Desktop/car.jpg')"
   ]
  },
  {
   "cell_type": "code",
   "execution_count": 13,
   "id": "fatal-update",
   "metadata": {},
   "outputs": [
    {
     "data": {
      "text/plain": [
       "(1, 224, 224, 3)"
      ]
     },
     "execution_count": 13,
     "metadata": {},
     "output_type": "execute_result"
    }
   ],
   "source": [
    "y.shape"
   ]
  },
  {
   "cell_type": "code",
   "execution_count": 15,
   "id": "sorted-starter",
   "metadata": {},
   "outputs": [],
   "source": [
    "preds=vgg16.predict(y)"
   ]
  },
  {
   "cell_type": "code",
   "execution_count": 16,
   "id": "binding-guatemala",
   "metadata": {},
   "outputs": [
    {
     "data": {
      "text/plain": [
       "array([[1.95381222e-08, 1.88057978e-08, 2.57546322e-08, 3.90971877e-09,\n",
       "        4.16368664e-08, 3.81560668e-08, 5.30795097e-09, 4.30993578e-06,\n",
       "        1.35602886e-06, 4.79385029e-08, 2.96553342e-08, 5.10813010e-08,\n",
       "        1.14171058e-07, 9.22943677e-09, 3.30590098e-08, 1.67561993e-07,\n",
       "        1.26675701e-07, 9.96689806e-08, 1.31174431e-07, 2.41219880e-08,\n",
       "        1.81607493e-08, 2.71857033e-07, 4.47500639e-07, 2.40433951e-06,\n",
       "        1.59872599e-07, 4.63498736e-07, 5.25304813e-08, 4.22753743e-08,\n",
       "        3.76304143e-08, 5.34334088e-09, 3.61730315e-07, 4.52036119e-07,\n",
       "        1.28863405e-06, 3.85863103e-07, 1.18645607e-06, 4.39275226e-07,\n",
       "        3.16868523e-07, 2.53712142e-06, 1.14008820e-07, 8.10200333e-08,\n",
       "        6.36227469e-07, 2.17441453e-07, 2.67097647e-07, 4.83078573e-08,\n",
       "        1.71058758e-07, 8.40208401e-08, 3.01453412e-07, 3.40953399e-08,\n",
       "        1.44401056e-07, 4.23960920e-08, 4.19323065e-08, 8.94106336e-08,\n",
       "        1.60079026e-07, 3.90550277e-08, 5.37219762e-08, 2.30742089e-07,\n",
       "        3.60909347e-08, 2.18308102e-07, 1.19734139e-07, 3.71302031e-06,\n",
       "        5.53001769e-07, 3.25233884e-08, 1.01034260e-07, 4.21903117e-08,\n",
       "        1.03401419e-07, 8.07938818e-08, 1.31776289e-07, 1.57295652e-08,\n",
       "        7.58094174e-08, 1.89753226e-08, 2.36723974e-08, 3.21603046e-08,\n",
       "        7.72004860e-09, 2.79662569e-08, 5.00302022e-09, 2.74041643e-08,\n",
       "        6.02181371e-09, 9.30461042e-09, 1.32005260e-08, 3.41895685e-08,\n",
       "        6.30244941e-08, 5.71697285e-08, 2.58303572e-07, 3.52795581e-07,\n",
       "        1.22762955e-07, 6.93002050e-07, 4.86892247e-07, 1.00511688e-08,\n",
       "        2.32817214e-07, 9.85735866e-08, 4.20265458e-08, 4.09439167e-08,\n",
       "        1.78611032e-07, 6.02242562e-06, 5.80709631e-08, 3.87991683e-08,\n",
       "        7.68632106e-07, 8.52995399e-08, 1.17093755e-07, 1.44418266e-07,\n",
       "        1.74972978e-08, 5.12129539e-08, 5.36135722e-08, 2.00012646e-08,\n",
       "        9.14626597e-09, 1.14344301e-09, 1.85873077e-08, 9.27753252e-09,\n",
       "        2.72416703e-08, 4.37898695e-09, 3.11803938e-09, 2.45123264e-08,\n",
       "        9.62852695e-08, 7.12240293e-08, 1.74536989e-08, 2.24849366e-08,\n",
       "        2.08184634e-08, 2.45864817e-09, 1.18046515e-08, 5.86043924e-08,\n",
       "        6.74157477e-08, 2.29803394e-08, 1.64953562e-08, 2.77110690e-08,\n",
       "        5.33993045e-08, 3.21642304e-08, 1.41145815e-08, 8.71397219e-07,\n",
       "        1.22070773e-07, 2.34769360e-08, 4.53732412e-08, 2.47417837e-08,\n",
       "        5.35192655e-08, 5.84816178e-08, 4.06206411e-08, 8.40870484e-08,\n",
       "        5.36921156e-08, 1.39016150e-08, 3.75905991e-08, 2.17100062e-08,\n",
       "        1.42754590e-08, 1.82961699e-08, 7.20971105e-09, 7.63453585e-08,\n",
       "        5.49821323e-07, 1.28980759e-07, 9.87683819e-08, 6.77693777e-08,\n",
       "        4.57245761e-08, 1.64518070e-08, 2.44378189e-08, 7.83508824e-07,\n",
       "        6.88863111e-06, 6.31618065e-08, 2.29780508e-05, 5.35167942e-07,\n",
       "        1.12003750e-06, 1.93553160e-06, 3.70967001e-07, 1.16707021e-07,\n",
       "        1.63393065e-06, 2.72763509e-06, 3.13795454e-07, 7.97457176e-07,\n",
       "        1.27516998e-07, 8.54135109e-08, 2.69594068e-07, 6.88083688e-08,\n",
       "        1.47140867e-07, 1.29232674e-07, 3.69836073e-08, 4.18860218e-08,\n",
       "        1.28371610e-07, 1.34692371e-07, 6.83855035e-08, 2.37193689e-07,\n",
       "        5.63311062e-07, 3.53928016e-08, 5.12389917e-08, 2.58868162e-08,\n",
       "        3.62854387e-08, 8.61103810e-09, 1.96798624e-07, 1.89631024e-07,\n",
       "        3.76284248e-07, 3.43339639e-06, 2.22927133e-06, 5.72348426e-07,\n",
       "        1.15881380e-06, 4.80332361e-08, 1.03885702e-06, 7.01596079e-08,\n",
       "        9.74893510e-07, 3.39005146e-06, 4.40094169e-07, 3.70241764e-07,\n",
       "        7.81167984e-08, 7.36204413e-08, 1.08088599e-07, 6.82957250e-07,\n",
       "        1.37278153e-06, 2.89734402e-07, 1.55850472e-07, 1.47165991e-07,\n",
       "        1.61504261e-06, 2.31832161e-07, 2.61392117e-08, 8.07918411e-07,\n",
       "        2.11546464e-07, 7.81434650e-08, 4.57107951e-08, 2.78682421e-07,\n",
       "        3.57581143e-07, 1.73612170e-06, 1.28678280e-07, 1.12906804e-07,\n",
       "        1.57464058e-06, 1.60648241e-07, 1.39609568e-07, 6.19894024e-07,\n",
       "        3.18148932e-06, 7.05764762e-08, 4.10095673e-08, 6.30641139e-08,\n",
       "        9.87074458e-08, 5.22504848e-08, 1.00789964e-06, 1.09074712e-07,\n",
       "        9.20986025e-08, 1.09784878e-07, 2.28839056e-07, 8.26206531e-07,\n",
       "        3.93073748e-07, 5.22094901e-08, 5.78512420e-08, 1.94616817e-07,\n",
       "        5.46017560e-08, 1.39601184e-07, 3.28171524e-07, 1.53372198e-07,\n",
       "        5.09732956e-07, 1.89601536e-07, 1.13684202e-07, 1.23745025e-07,\n",
       "        8.25845277e-08, 2.44192876e-07, 2.58862229e-08, 1.32273243e-07,\n",
       "        1.43298209e-07, 4.88042140e-08, 6.98016862e-08, 5.63884832e-08,\n",
       "        1.23379493e-07, 2.52995619e-07, 8.38082428e-07, 2.05971531e-07,\n",
       "        1.17033971e-06, 3.70456831e-07, 6.88709960e-08, 7.39079894e-07,\n",
       "        9.02284967e-08, 2.68594505e-07, 1.47294963e-06, 3.86293920e-07,\n",
       "        1.04515527e-06, 7.46745386e-08, 6.23833287e-08, 3.53329938e-07,\n",
       "        1.03244790e-08, 1.32230483e-07, 1.64114795e-07, 6.22484890e-08,\n",
       "        1.31640505e-07, 3.36456310e-07, 2.16423999e-07, 1.33890330e-08,\n",
       "        8.72230714e-08, 1.03928457e-07, 8.32257729e-09, 2.65272035e-08,\n",
       "        2.09648636e-08, 6.64717206e-08, 2.69038125e-08, 9.02289230e-08,\n",
       "        2.91121598e-08, 1.44563231e-07, 1.57312741e-08, 9.30993167e-08,\n",
       "        5.98372480e-08, 7.01061298e-09, 2.06137880e-08, 4.62846538e-06,\n",
       "        4.81835798e-08, 6.18738412e-08, 8.78223716e-08, 1.46551571e-07,\n",
       "        4.14956673e-08, 3.41782922e-08, 5.78878847e-08, 1.26310653e-07,\n",
       "        3.35525141e-09, 8.85788936e-08, 5.16411092e-08, 2.51589398e-08,\n",
       "        6.27117629e-08, 4.38233094e-08, 4.31935412e-08, 1.52239981e-08,\n",
       "        1.05775451e-08, 4.31652118e-08, 1.00026298e-08, 3.49535384e-07,\n",
       "        6.68821869e-08, 4.81988423e-08, 8.22133899e-08, 3.37266037e-08,\n",
       "        3.25769101e-08, 3.30841132e-08, 5.40404788e-09, 5.52823520e-09,\n",
       "        1.47944945e-08, 1.64965442e-07, 1.76224599e-08, 1.66527201e-08,\n",
       "        1.59137343e-08, 3.57577896e-08, 2.10696101e-08, 2.72432814e-08,\n",
       "        1.14290728e-08, 8.79178597e-09, 7.57395014e-07, 2.47733055e-06,\n",
       "        2.70442825e-07, 7.89771804e-08, 2.97666300e-08, 5.41273693e-08,\n",
       "        5.72112349e-08, 6.00658296e-08, 1.16011357e-07, 2.12225526e-08,\n",
       "        1.81796295e-07, 1.59892490e-08, 1.69743668e-08, 7.48036939e-08,\n",
       "        2.12106954e-08, 5.35642243e-07, 1.91109475e-08, 3.43340758e-07,\n",
       "        1.45316903e-06, 5.60712397e-06, 8.27540759e-07, 9.35385103e-08,\n",
       "        1.60682106e-07, 3.80069679e-07, 1.54157618e-07, 6.95315805e-07,\n",
       "        1.79349428e-07, 1.05897840e-07, 5.97070482e-08, 1.20300697e-07,\n",
       "        2.27159020e-08, 9.33438855e-08, 4.32113666e-07, 2.23973942e-07,\n",
       "        1.82671954e-06, 1.48857296e-07, 6.23704253e-08, 1.50690710e-07,\n",
       "        9.26995725e-08, 1.54583077e-07, 7.35817665e-08, 1.69924178e-07,\n",
       "        1.96058386e-06, 6.22626487e-07, 4.94855250e-08, 4.92270154e-08,\n",
       "        4.23178896e-08, 2.30636047e-07, 1.09434275e-07, 6.76279868e-08,\n",
       "        3.08765266e-07, 1.11374611e-07, 3.90848349e-08, 7.66603581e-09,\n",
       "        1.25336959e-08, 1.10404184e-08, 1.76984525e-08, 5.19773558e-09,\n",
       "        2.84255766e-08, 6.72416718e-08, 1.65002888e-07, 7.08688574e-08,\n",
       "        1.76964932e-08, 1.80366495e-08, 1.65650036e-08, 1.00686826e-07,\n",
       "        9.47151069e-09, 3.20669571e-08, 3.38111050e-08, 3.55967359e-07,\n",
       "        1.63485723e-07, 2.36521686e-07, 1.01273407e-07, 3.08754515e-08,\n",
       "        1.37146128e-06, 6.22927644e-07, 3.96979836e-08, 1.52866378e-05,\n",
       "        1.41832119e-04, 9.51096695e-07, 1.05631145e-07, 7.73995623e-08,\n",
       "        1.17548352e-05, 1.73828440e-07, 2.70925420e-06, 1.09790381e-06,\n",
       "        7.44354267e-08, 1.53158726e-06, 2.43216277e-07, 7.90937094e-08,\n",
       "        6.81341632e-08, 1.50174102e-07, 3.96539576e-07, 1.19793185e-07,\n",
       "        7.45112843e-08, 2.51923012e-07, 7.22810256e-08, 4.25436474e-06,\n",
       "        2.71859363e-07, 1.36060748e-07, 7.54818927e-08, 1.33662795e-07,\n",
       "        1.44147263e-08, 6.19453431e-08, 7.46495488e-08, 2.29558381e-07,\n",
       "        3.40949893e-02, 9.13346625e-08, 2.37207260e-07, 2.45714915e-08,\n",
       "        8.39165409e-07, 5.35443633e-07, 4.21243953e-07, 2.13777049e-08,\n",
       "        1.47109859e-07, 3.57483287e-07, 1.33376739e-06, 2.60167435e-05,\n",
       "        7.43883035e-08, 1.21669331e-07, 4.73781739e-07, 3.23337517e-08,\n",
       "        1.49644901e-08, 1.23852404e-08, 4.14390172e-07, 2.44590615e-06,\n",
       "        2.37927267e-07, 3.23536653e-07, 5.47147643e-08, 2.96223188e-08,\n",
       "        9.94106841e-08, 7.97865312e-08, 1.66577263e-06, 2.15444516e-06,\n",
       "        9.01584428e-07, 5.42829923e-07, 1.56448365e-07, 7.67174811e-07,\n",
       "        2.43771896e-02, 9.31009652e-07, 9.02940869e-08, 2.14164274e-07,\n",
       "        2.45003844e-06, 9.23751671e-08, 8.12854495e-09, 1.90947267e-05,\n",
       "        1.09630967e-07, 6.78213951e-07, 8.19221270e-07, 4.37951609e-02,\n",
       "        3.15180024e-08, 1.04608364e-06, 1.04766710e-04, 4.08539726e-08,\n",
       "        1.30129919e-07, 2.99897988e-06, 2.16172023e-08, 2.76704827e-06,\n",
       "        5.93604057e-07, 2.39807520e-07, 5.91479887e-09, 9.85538554e-06,\n",
       "        1.01431251e-05, 9.19976557e-08, 4.31665299e-08, 2.17101732e-08,\n",
       "        2.86288415e-09, 1.07417929e-06, 9.93222216e-07, 3.22218270e-08,\n",
       "        1.11044081e-08, 3.29213918e-08, 2.07561456e-07, 9.21112132e-07,\n",
       "        9.29995338e-07, 3.57668114e-07, 3.68444120e-08, 1.57943450e-05,\n",
       "        3.37207489e-08, 2.33485153e-07, 8.88767460e-08, 5.15823960e-02,\n",
       "        1.47926744e-06, 1.74641812e-07, 1.60849225e-07, 2.83109642e-07,\n",
       "        4.20879360e-07, 1.60039576e-06, 1.16192666e-06, 8.22979189e-07,\n",
       "        1.53217012e-08, 2.35347386e-07, 7.67527581e-07, 1.19499543e-06,\n",
       "        2.14332729e-08, 5.35799387e-08, 5.90580562e-08, 1.69278820e-07,\n",
       "        9.39081062e-08, 1.20249425e-07, 5.40291239e-06, 1.14202867e-05,\n",
       "        6.00244832e-08, 2.51725716e-08, 1.01475756e-07, 4.66798667e-07,\n",
       "        5.80605217e-07, 1.57316933e-08, 1.05567256e-06, 1.48114992e-07,\n",
       "        2.39607179e-08, 7.60887104e-08, 1.70856822e-08, 5.19424566e-06,\n",
       "        4.09772767e-08, 6.15855242e-07, 7.36446708e-08, 4.61555260e-07,\n",
       "        6.77996326e-08, 8.47727435e-08, 6.85989647e-08, 4.19635100e-08,\n",
       "        1.55329204e-07, 1.52698803e-07, 1.05433891e-07, 8.34345155e-06,\n",
       "        6.54830901e-09, 1.92915559e-06, 7.35950323e-08, 2.61866688e-08,\n",
       "        5.85216178e-08, 1.77327765e-05, 1.31409578e-07, 1.70387386e-06,\n",
       "        2.95086320e-08, 6.62231514e-07, 2.88442603e-08, 2.40499531e-08,\n",
       "        3.28366703e-08, 7.85479915e-06, 3.27278735e-06, 2.17245065e-06,\n",
       "        1.74782272e-07, 4.33736432e-06, 2.01247713e-06, 1.33431395e-05,\n",
       "        9.33983380e-09, 4.82698415e-09, 2.09979490e-07, 2.39630005e-08,\n",
       "        4.78712074e-08, 6.93754405e-02, 8.07279150e-07, 6.32205044e-08,\n",
       "        4.82048392e-07, 1.51232598e-07, 3.26598115e-06, 3.03861384e-06,\n",
       "        7.87832903e-07, 4.78856634e-07, 5.78614788e-07, 2.62329092e-08,\n",
       "        8.34646698e-08, 8.17388866e-07, 3.59092454e-08, 1.21229959e-06,\n",
       "        8.05858775e-08, 1.21555900e-07, 2.47899777e-07, 4.90769025e-07,\n",
       "        5.11452572e-06, 1.26789061e-07, 2.28019275e-07, 1.02901680e-07,\n",
       "        7.15092057e-08, 4.16558720e-07, 4.66898399e-07, 3.08989456e-07,\n",
       "        7.32600967e-08, 7.69190228e-05, 1.92901851e-07, 4.17470041e-08,\n",
       "        5.01079910e-07, 1.92078900e-07, 2.87067206e-08, 7.13727317e-08,\n",
       "        3.11491874e-07, 6.04909971e-08, 3.46720014e-07, 8.79406272e-08,\n",
       "        3.02001581e-07, 3.39490111e-06, 4.52258178e-07, 4.57251190e-07,\n",
       "        9.18159557e-08, 1.77263939e-06, 4.04651701e-06, 8.44391936e-04,\n",
       "        1.24037570e-07, 9.63142028e-08, 3.22889321e-07, 4.05025617e-07,\n",
       "        2.19550498e-06, 1.35997311e-07, 2.71093029e-07, 7.11292751e-06,\n",
       "        9.00936811e-06, 1.54726661e-06, 1.07707410e-06, 1.83169192e-07,\n",
       "        7.41288915e-08, 4.66877239e-08, 1.40749012e-08, 1.26997207e-07,\n",
       "        4.26413322e-08, 1.00090389e-07, 1.57327733e-08, 3.47145857e-07,\n",
       "        2.21421264e-08, 6.99192739e-08, 3.25298885e-07, 1.06239488e-08,\n",
       "        8.98168366e-08, 1.48163099e-06, 1.84576958e-04, 3.89544812e-06,\n",
       "        1.79309427e-04, 3.41934054e-07, 3.15815463e-08, 6.41508890e-08,\n",
       "        2.60417005e-06, 2.57941588e-06, 8.52220978e-07, 5.01761548e-08,\n",
       "        1.24352334e-06, 9.07465250e-08, 1.08305437e-06, 3.46883752e-07,\n",
       "        1.41061506e-07, 7.46963380e-08, 4.35107921e-07, 1.63545451e-07,\n",
       "        2.85668125e-06, 2.69632352e-07, 7.27090878e-07, 1.61053686e-05,\n",
       "        3.26516829e-06, 3.85397925e-07, 7.20463845e-07, 1.50434118e-07,\n",
       "        5.32917852e-07, 1.24715746e-06, 2.81664541e-07, 9.42490317e-08,\n",
       "        1.07651175e-07, 5.52660651e-07, 2.82676478e-06, 1.02363993e-08,\n",
       "        5.50711121e-08, 7.93276911e-09, 2.97232162e-07, 1.82696596e-07,\n",
       "        2.29181722e-07, 1.33116558e-07, 4.86896674e-08, 3.83123461e-06,\n",
       "        2.25969899e-07, 8.99753516e-08, 9.63865148e-08, 2.48314684e-08,\n",
       "        5.32745048e-07, 6.19723721e-07, 4.66147156e-08, 8.49013873e-08,\n",
       "        1.29606651e-05, 1.45762730e-02, 3.74592624e-08, 8.48998454e-08,\n",
       "        1.21466735e-06, 7.67098390e-06, 1.22437859e-06, 1.44700266e-06,\n",
       "        1.17176135e-08, 1.53608156e-07, 7.25863529e-08, 4.69969912e-08,\n",
       "        3.40354177e-07, 3.93795758e-01, 2.01628197e-07, 2.24354790e-06,\n",
       "        5.09139738e-07, 2.61085180e-08, 1.75401937e-07, 5.75205021e-08,\n",
       "        1.40266437e-07, 3.16032742e-06, 1.66334445e-07, 2.22854297e-07,\n",
       "        1.32460837e-05, 1.27314612e-08, 2.77021127e-06, 5.83977737e-07,\n",
       "        1.54550128e-06, 4.78709399e-06, 1.48254418e-04, 1.15237718e-07,\n",
       "        2.00201853e-07, 1.28886018e-06, 9.51113861e-07, 6.91659086e-09,\n",
       "        2.24892074e-06, 3.79807155e-08, 4.64312143e-06, 2.62936112e-07,\n",
       "        3.47276966e-07, 9.90666649e-06, 3.73989934e-07, 5.99511409e-08,\n",
       "        5.26044278e-06, 1.28363894e-07, 2.30930664e-06, 1.62577763e-01,\n",
       "        1.36547811e-07, 7.67893596e-07, 1.13635970e-05, 1.94768770e-08,\n",
       "        1.78886614e-06, 3.65441997e-06, 1.31414527e-06, 1.55146745e-06,\n",
       "        8.50212984e-08, 2.91025970e-07, 2.17839542e-07, 2.54992045e-07,\n",
       "        4.12524372e-07, 4.68515502e-08, 8.37438137e-08, 3.61393774e-07,\n",
       "        2.86016359e-07, 8.43887094e-08, 5.94203868e-07, 9.71457666e-07,\n",
       "        8.34542391e-08, 4.46934649e-07, 2.11499483e-07, 1.45651768e-07,\n",
       "        1.55064711e-07, 4.41921308e-08, 4.68045044e-07, 1.62950823e-06,\n",
       "        7.21283655e-08, 6.38408508e-08, 3.66701414e-07, 7.07557462e-08,\n",
       "        2.01159060e-06, 4.82296741e-07, 4.63107028e-08, 1.41077452e-08,\n",
       "        1.98391319e-07, 1.60633462e-08, 6.55651775e-06, 3.17647482e-06,\n",
       "        1.22391623e-06, 1.51000279e-07, 1.59938853e-08, 4.43443497e-07,\n",
       "        7.94644066e-08, 3.25971882e-07, 1.39532013e-08, 9.10950519e-07,\n",
       "        1.85382788e-07, 2.90123853e-06, 1.19851529e-06, 2.55745563e-05,\n",
       "        4.15247058e-07, 2.02196338e-06, 1.17696697e-08, 2.01297340e-07,\n",
       "        1.16052078e-07, 7.53588608e-07, 4.48407782e-08, 1.69136911e-06,\n",
       "        7.75079982e-08, 1.61071867e-08, 1.81111466e-06, 3.91024857e-09,\n",
       "        4.80094684e-08, 2.00965136e-01, 4.22364683e-05, 2.08539447e-07,\n",
       "        7.77121301e-08, 8.94209109e-07, 1.17070913e-08, 1.00496791e-07,\n",
       "        1.65685506e-07, 1.97848308e-07, 2.11573024e-06, 6.23134113e-08,\n",
       "        3.52444516e-07, 7.27810971e-07, 7.57175485e-07, 1.18245396e-06,\n",
       "        5.58485311e-08, 2.47249318e-07, 2.46254842e-07, 4.39415146e-07,\n",
       "        1.32596767e-06, 1.30218257e-06, 3.26923271e-07, 2.40807879e-07,\n",
       "        1.29891191e-06, 5.43985550e-07, 2.00138288e-07, 1.24544727e-06,\n",
       "        1.43058855e-07, 5.40326994e-07, 5.81926258e-07, 1.26168175e-06,\n",
       "        2.92911609e-05, 5.84935560e-06, 4.47249100e-08, 3.53345456e-07,\n",
       "        1.53185613e-06, 2.68356871e-07, 7.21846547e-08, 1.61930146e-07,\n",
       "        6.62073660e-07, 3.81223835e-08, 1.72324530e-06, 1.40413715e-06,\n",
       "        1.71759709e-07, 4.65955594e-08, 1.66609116e-05, 7.38501399e-07,\n",
       "        2.26952811e-03, 5.30903947e-07, 5.39511666e-06, 6.38138272e-06,\n",
       "        9.49456762e-08, 1.33113630e-07, 1.95448501e-06, 7.64897038e-07,\n",
       "        1.61870702e-07, 8.79680542e-08, 2.08905999e-06, 1.76103057e-07,\n",
       "        3.32332917e-07, 7.01919944e-08, 1.99542054e-08, 3.41384037e-07,\n",
       "        3.63398476e-06, 1.32052858e-08, 2.00663690e-05, 1.87100750e-06,\n",
       "        5.93124483e-08, 2.21605163e-07, 2.10858122e-08, 1.36593323e-08,\n",
       "        5.23905726e-07, 1.60234421e-08, 3.40112450e-07, 2.01666822e-07,\n",
       "        9.26912591e-08, 4.31764335e-07, 1.28111655e-08, 5.12404085e-06,\n",
       "        3.78755118e-07, 9.49363994e-07, 2.82331621e-06, 4.92446270e-06,\n",
       "        1.21217525e-07, 3.54023268e-06, 1.71581996e-06, 5.81735655e-08,\n",
       "        4.56099905e-08, 3.26028271e-08, 2.52739255e-07, 1.06787923e-06,\n",
       "        3.75596244e-07, 2.13698783e-08, 1.86706988e-08, 1.13508918e-07,\n",
       "        4.35308010e-07, 1.74093816e-06, 2.50107615e-08, 1.14951245e-05,\n",
       "        4.15252202e-07, 2.24212869e-07, 1.66638738e-08, 2.14571833e-06,\n",
       "        2.11505221e-06, 1.44809249e-07, 1.51189266e-08, 1.77419857e-08,\n",
       "        5.26568762e-08, 1.67490164e-08, 7.38241184e-08, 4.67608459e-08,\n",
       "        2.27480310e-08, 9.45984269e-08, 1.28307221e-07, 4.42481962e-09,\n",
       "        5.04769673e-07, 6.17713738e-08, 4.50399398e-08, 6.63356943e-08,\n",
       "        4.72007819e-08, 2.54828194e-07, 8.64822525e-08, 5.90003530e-08,\n",
       "        3.34278418e-08, 2.51194781e-08, 4.53758844e-08, 6.28996020e-08,\n",
       "        5.77149635e-08, 3.17103712e-07, 2.42096565e-08, 1.91196148e-09,\n",
       "        1.41442612e-07, 9.19965117e-08, 3.68536206e-08, 1.59068847e-07,\n",
       "        1.78796018e-08, 1.13439160e-08, 8.62551630e-08, 1.37491192e-08,\n",
       "        6.22213037e-08, 1.64377543e-08, 1.04945912e-06, 4.62398519e-09,\n",
       "        7.87836996e-08, 1.59727289e-08, 2.71503126e-07, 6.81330858e-09,\n",
       "        1.72220194e-08, 6.87663828e-08, 3.40405137e-07, 3.73788289e-08,\n",
       "        1.10383132e-06, 8.80296582e-08, 8.91920592e-07, 2.29678832e-07,\n",
       "        2.12122629e-07, 7.14826740e-08, 1.76762196e-08, 7.10760787e-07,\n",
       "        5.90098409e-07, 4.38163539e-07, 9.68592758e-07, 1.44250336e-07,\n",
       "        7.68703572e-08, 4.89059971e-07, 5.74522483e-06, 4.08651957e-08,\n",
       "        8.09002472e-07, 5.20861576e-08, 3.38720412e-08, 1.14956826e-07,\n",
       "        2.67504099e-08, 2.83280310e-09, 9.06911968e-09, 2.64281201e-08,\n",
       "        1.08586429e-08, 5.44398127e-09, 3.02514245e-08, 3.43734392e-08,\n",
       "        1.54530380e-08, 1.18747252e-08, 7.85189229e-08, 4.83534450e-06]],\n",
       "      dtype=float32)"
      ]
     },
     "execution_count": 16,
     "metadata": {},
     "output_type": "execute_result"
    }
   ],
   "source": [
    "preds"
   ]
  },
  {
   "cell_type": "code",
   "execution_count": 17,
   "id": "valid-sister",
   "metadata": {},
   "outputs": [
    {
     "data": {
      "text/plain": [
       "(1, 1000)"
      ]
     },
     "execution_count": 17,
     "metadata": {},
     "output_type": "execute_result"
    }
   ],
   "source": [
    "preds.shape"
   ]
  },
  {
   "cell_type": "code",
   "execution_count": 106,
   "id": "rotary-society",
   "metadata": {},
   "outputs": [],
   "source": [
    "CLASS_INDEX= None"
   ]
  },
  {
   "cell_type": "code",
   "execution_count": 107,
   "id": "offshore-school",
   "metadata": {},
   "outputs": [],
   "source": [
    "CLASS_INDEX_PATH = '/Users/rishitdholakia/Desktop/Car Damage Detection project/imagenet_class_index.json'\n",
    "#CLASS_INDEX_PATH = 'https://s3.amazonaws.com/deep-learning-models/image-models/imagenet_class_index.json'"
   ]
  },
  {
   "cell_type": "code",
   "execution_count": 108,
   "id": "simple-renaissance",
   "metadata": {},
   "outputs": [],
   "source": [
    "def get_predictions(preds,top=5):\n",
    "    global CLASS_INDEX #to make changes to global class_index\n",
    "    CLASS_INDEX=json.load(open(CLASS_INDEX_PATH)) #converts JSON object to python Dictionary\n",
    "    results=[]\n",
    "    \n",
    "    #indices=preds.argsort(axis=-1)[:,-5][:,::-1] #argsort returns indices sorted according to specified axis -- if we dont use reshape\n",
    "    \n",
    "    for pred in preds:\n",
    "        top_indices = pred.argsort()[-top:][::-1]\n",
    "        result=[tuple(CLASS_INDEX[str(i)])+(pred[i],) for i in top_indices] # Empty tuples will appear as coral = (), but tuples with even one value must use a comma as in coral = ('blue coral',)\n",
    "        results.append(result)\n",
    "    return results"
   ]
  },
  {
   "cell_type": "code",
   "execution_count": 116,
   "id": "suburban-postcard",
   "metadata": {},
   "outputs": [
    {
     "name": "stdout",
     "output_type": "stream",
     "text": [
      "<class 'list'>\n"
     ]
    }
   ],
   "source": [
    "print (get_predictions(preds, top=5))"
   ]
  },
  {
   "cell_type": "code",
   "execution_count": 110,
   "id": "interracial-evaluation",
   "metadata": {},
   "outputs": [],
   "source": [
    "#First Check - category list creation"
   ]
  },
  {
   "cell_type": "code",
   "execution_count": 111,
   "id": "fiscal-truth",
   "metadata": {},
   "outputs": [],
   "source": [
    "from collections import Counter, defaultdict\n",
    "import os\n",
    "import pickle as pk"
   ]
  },
  {
   "cell_type": "code",
   "execution_count": 112,
   "id": "current-petite",
   "metadata": {},
   "outputs": [
    {
     "name": "stdout",
     "output_type": "stream",
     "text": [
      "['0071.jpg', '0065.jpg', '0059.jpg', '0105.jpg', '0111.jpg', '0139.jpg', '0138.jpg', '0110.jpg', '0104.jpg', '0058.jpg', '0064.jpg', '0070.jpg', '0066.jpg', '0072.jpg', '0099.jpg', '0112.jpg', '0106.jpg', '0107.jpg', '0113.jpg', '0098.jpg', '0073.jpg', '0067.jpg', '0063.jpg', '0077.jpg', '0088.jpg', '0117.jpg', '0103.jpg', '0102.jpg', '0116.jpg', '0089.jpg', '0076.jpg', '0062.jpg', '0048.jpg', '0074.jpg', '0060.jpg', '0128.jpg', '0100.jpg', '0114.jpg', '0115.jpg', '0101.jpg', '0129.jpg', '0061.jpg', '0075.jpg', '0049.jpg', '0012.jpg', '0006.jpg', '0210.jpg', '0204.jpg', '0166.jpg', '0172.jpg', '0199.jpg', '0198.jpg', '0173.jpg', '0167.jpg', '0205.jpg', '0211.jpg', '0007.jpg', '0013.jpg', '0005.jpg', '0011.jpg', '0039.jpg', '0207.jpg', '0213.jpg', '0171.jpg', '0165.jpg', '0159.jpg', '0158.jpg', '0164.jpg', '0170.jpg', '0212.jpg', '0206.jpg', '0038.jpg', '0010.jpg', '0004.jpg', '0028.jpg', '0014.jpg', '0202.jpg', '0216.jpg', '0148.jpg', '0174.jpg', '0160.jpg', '0161.jpg', '0175.jpg', '0149.jpg', '0217.jpg', '0203.jpg', '0015.jpg', '0001.jpg', '0029.jpg', '0017.jpg', '0003.jpg', '0229.jpg', '0215.jpg', '0201.jpg', '0163.jpg', '0177.jpg', '0188.jpg', '0189.jpg', '0176.jpg', '0162.jpg', '0200.jpg', '0214.jpg', '0228.jpg', '0002.jpg', '0016.jpg', '0033.jpg', '0027.jpg', '0225.jpg', '0219.jpg', '0147.jpg', '0153.jpg', '0184.jpg', '0190.jpg', '0191.jpg', '0185.jpg', '0152.jpg', '0146.jpg', '0218.jpg', '0224.jpg', '0230.jpg', '0026.jpg', '0032.jpg', '0024.jpg', '0030.jpg', '0018.jpg', '0226.jpg', '0150.jpg', '0144.jpg', '0178.jpg', '0193.jpg', '0187.jpg', '0186.jpg', '0192.jpg', '0179.jpg', '0145.jpg', '0151.jpg', '0227.jpg', '0019.jpg', '0031.jpg', '0025.jpg', '0009.jpg', '0021.jpg', '0035.jpg', '0223.jpg', '0169.jpg', '0155.jpg', '0141.jpg', '0196.jpg', '0182.jpg', '0183.jpg', '0197.jpg', '0140.jpg', '0154.jpg', '0168.jpg', '0222.jpg', '0034.jpg', '0020.jpg', '0008.jpg', '0036.jpg', '0022.jpg', '0208.jpg', '0220.jpg', '0142.jpg', '0156.jpg', '0181.jpg', '0195.jpg', '0194.jpg', '0180.jpg', '0157.jpg', '0143.jpg', '0221.jpg', '0209.jpg', '0023.jpg', '0037.jpg', '0050.jpg', '0044.jpg', '0078.jpg', '0093.jpg', '0087.jpg', '0124.jpg', '0130.jpg', '0118.jpg', '0119.jpg', '0131.jpg', '0125.jpg', '0086.jpg', '0092.jpg', '0079.jpg', '0045.jpg', '0051.jpg', '0047.jpg', '0053.jpg', '0084.jpg', '0090.jpg', '0133.jpg', '0127.jpg', '0126.jpg', '0132.jpg', '0091.jpg', '0085.jpg', '0052.jpg', '0046.jpg', '0042.jpg', '0056.jpg', '0081.jpg', '0095.jpg', '0136.jpg', '0122.jpg', '0123.jpg', '0137.jpg', '0094.jpg', '0080.jpg', '0057.jpg', '0043.jpg', '0069.jpg', '0055.jpg', '0041.jpg', '0096.jpg', '0082.jpg', '0109.jpg', '0121.jpg', '0135.jpg', '0134.jpg', '0120.jpg', '0108.jpg', '0083.jpg', '0097.jpg', '0040.jpg', '0054.jpg', '0068.jpg']\n",
      "[[[[ -76.939     -85.779     -91.68    ]\n",
      "   [ -73.939     -82.779     -88.68    ]\n",
      "   [ -81.939     -90.779     -96.68    ]\n",
      "   ...\n",
      "   [ -83.939     -92.779     -98.68    ]\n",
      "   [ -82.939     -91.779     -97.68    ]\n",
      "   [ -84.939     -93.779     -99.68    ]]\n",
      "\n",
      "  [[ -82.939     -91.779     -97.68    ]\n",
      "   [ -81.939     -90.779     -96.68    ]\n",
      "   [ -80.939     -89.779     -95.68    ]\n",
      "   ...\n",
      "   [ -83.939     -92.779     -98.68    ]\n",
      "   [ -83.939     -92.779     -98.68    ]\n",
      "   [ -85.939     -94.779    -100.68    ]]\n",
      "\n",
      "  [[ -78.939     -87.779     -93.68    ]\n",
      "   [ -77.939     -86.779     -92.68    ]\n",
      "   [ -80.939     -89.779     -95.68    ]\n",
      "   ...\n",
      "   [ -83.939     -92.779     -98.68    ]\n",
      "   [ -84.939     -93.779     -99.68    ]\n",
      "   [ -84.939     -93.779     -99.68    ]]\n",
      "\n",
      "  ...\n",
      "\n",
      "  [[ -72.939     -85.779     -92.68    ]\n",
      "   [ -71.939     -84.779     -91.68    ]\n",
      "   [ -77.939     -90.779     -97.68    ]\n",
      "   ...\n",
      "   [ -41.939003  -51.779     -60.68    ]\n",
      "   [ -31.939003  -41.779     -50.68    ]\n",
      "   [ -31.939003  -41.779     -50.68    ]]\n",
      "\n",
      "  [[ -74.939     -87.779     -94.68    ]\n",
      "   [ -69.939     -82.779     -89.68    ]\n",
      "   [ -75.939     -88.779     -95.68    ]\n",
      "   ...\n",
      "   [ -29.939003  -39.779     -48.68    ]\n",
      "   [ -26.939003  -36.779     -45.68    ]\n",
      "   [ -30.939003  -40.779     -49.68    ]]\n",
      "\n",
      "  [[ -68.939     -81.779     -88.68    ]\n",
      "   [ -71.939     -84.779     -91.68    ]\n",
      "   [ -72.939     -85.779     -92.68    ]\n",
      "   ...\n",
      "   [ -23.939003  -32.779     -44.68    ]\n",
      "   [ -22.939003  -31.779     -43.68    ]\n",
      "   [ -40.939003  -49.779     -61.68    ]]]]\n"
     ]
    }
   ],
   "source": [
    " img_list=os.listdir('/Users/rishitdholakia/Desktop/Car Damage Detection project/data1a/validation/01-whole')#This method returns a list containing the names of the entries in the directory given by path.\n",
    " print(img_list)\n",
    " for i,img_path in enumerate(img_list):\n",
    "     img = prepare_image('/Users/rishitdholakia/Desktop/Car Damage Detection project/data1a/validation/01-whole/'+img_path)\n",
    " print(img)"
   ]
  },
  {
   "cell_type": "code",
   "execution_count": 126,
   "id": "eight-playback",
   "metadata": {},
   "outputs": [],
   "source": [
    "def get_car_categories():\n",
    "    d=defaultdict(float) #Usually, a Python dictionary throws a KeyError if you try to get an item with a key that is not currently in the dictionary. The defaultdict in contrast will simply create any items that you try to access (provided of course they do not exist yet).\n",
    "    img_list=os.listdir('/Users/rishitdholakia/Desktop/Car Damage Detection project/data1a/validation/01-whole')#This method returns a list containing the names of the entries in the directory given by path.\n",
    "    for i,img_path in enumerate(img_list):\n",
    "        img = prepare_image('/Users/rishitdholakia/Desktop/Car Damage Detection project/data1a/validation/01-whole/'+img_path)\n",
    "        out = vgg16.predict(img)\n",
    "        top = get_predictions(out, top=5)\n",
    "        for j in top[0]:  #iterating through tuple using a for loop\n",
    "            d[j[0:2]]+=j[2]\n",
    "        if i % 100 == 0:\n",
    "            print (i, '/', len(img_list), 'complete')\n",
    "    return Counter(d)"
   ]
  },
  {
   "cell_type": "code",
   "execution_count": 127,
   "id": "extreme-brighton",
   "metadata": {},
   "outputs": [
    {
     "name": "stdout",
     "output_type": "stream",
     "text": [
      "0 / 230 complete\n",
      "100 / 230 complete\n",
      "200 / 230 complete\n"
     ]
    }
   ],
   "source": [
    "cat_counter=get_car_categories() "
   ]
  },
  {
   "cell_type": "code",
   "execution_count": 128,
   "id": "arranged-zambia",
   "metadata": {},
   "outputs": [
    {
     "data": {
      "text/plain": [
       "Counter({('n04285008', 'sports_car'): 28.853904586285353,\n",
       "         ('n04037443', 'racer'): 7.548823233228177,\n",
       "         ('n03100240', 'convertible'): 22.27065716101788,\n",
       "         ('n02974003', 'car_wheel'): 5.018784584943205,\n",
       "         ('n02814533', 'beach_wagon'): 21.272268172120675,\n",
       "         ('n03930630', 'pickup'): 17.554288666695356,\n",
       "         ('n02930766', 'cab'): 6.648977704113349,\n",
       "         ('n03710193', 'mailbox'): 0.11574728786945343,\n",
       "         ('n03425413', 'gas_pump'): 0.09956557303667068,\n",
       "         ('n03902125', 'pay-phone'): 0.07892029732465744,\n",
       "         ('n02791270', 'barbershop'): 0.06867709010839462,\n",
       "         ('n04461696', 'tow_truck'): 4.083389501320198,\n",
       "         ('n03977966', 'police_van'): 2.266874913824722,\n",
       "         ('n03770679', 'minivan'): 35.39320989861153,\n",
       "         ('n03670208', 'limousine'): 12.064467553049326,\n",
       "         ('n03445924', 'golfcart'): 0.8001158833503723,\n",
       "         ('n03459775', 'grille'): 4.1132087131845765,\n",
       "         ('n03769881', 'minibus'): 3.6504267731215805,\n",
       "         ('n02701002', 'ambulance'): 1.273384262691252,\n",
       "         ('n03594945', 'jeep'): 6.297781702363864,\n",
       "         ('n03417042', 'garbage_truck'): 0.4528804309666157,\n",
       "         ('n03796401', 'moving_van'): 3.0337970033288,\n",
       "         ('n04252225', 'snowplow'): 1.1316839797364082,\n",
       "         ('n04465501', 'tractor'): 0.01639496721327305,\n",
       "         ('n03478589', 'half_track'): 0.4074339475482702,\n",
       "         ('n04065272', 'recreational_vehicle'): 1.593459407798946,\n",
       "         ('n03345487', 'fire_engine'): 0.05010239873081446,\n",
       "         ('n04613696', 'yurt'): 0.051515012979507446,\n",
       "         ('n03384352', 'forklift'): 0.350821316242218,\n",
       "         ('n02965783', 'car_mirror'): 0.2998924497514963,\n",
       "         ('n02704792', 'amphibian'): 0.33076150342822075,\n",
       "         ('n04467665', 'trailer_truck'): 0.5593058932572603,\n",
       "         ('n03777568', 'Model_T'): 0.8845773339271545,\n",
       "         ('n03776460', 'mobile_home'): 0.12374703213572502,\n",
       "         ('n04069434', 'reflex_camera'): 0.07055654376745224,\n",
       "         ('n04264628', 'space_bar'): 0.030623750761151314,\n",
       "         ('n04204347', 'shopping_cart'): 0.08634921908378601,\n",
       "         ('n03791053', 'motor_scooter'): 0.06527034193277359,\n",
       "         ('n04517823', 'vacuum'): 0.10549970716238022,\n",
       "         ('n03891332', 'parking_meter'): 0.11133110895752907,\n",
       "         ('n03895866', 'passenger_car'): 0.006710623390972614,\n",
       "         ('n04146614', 'school_bus'): 0.0057261111214756966,\n",
       "         ('n03032252', 'cinema'): 0.16016654670238495,\n",
       "         ('n06794110', 'street_sign'): 0.05181441828608513,\n",
       "         ('n04004767', 'printer'): 0.06704746186733246})"
      ]
     },
     "execution_count": 128,
     "metadata": {},
     "output_type": "execute_result"
    }
   ],
   "source": [
    "cat_counter"
   ]
  },
  {
   "cell_type": "code",
   "execution_count": 129,
   "id": "designing-intervention",
   "metadata": {},
   "outputs": [],
   "source": [
    "#with open('cat_counter.pk', 'wb') as f:\n",
    "#    pk.dump(cat_counter,f,-1)              #storing dictionary"
   ]
  },
  {
   "cell_type": "code",
   "execution_count": 130,
   "id": "delayed-flooring",
   "metadata": {},
   "outputs": [],
   "source": [
    "#This piece of code will be used to load already saved cat_counter\n",
    "with open('cat_counter.pk', 'rb') as f:\n",
    "     cat_counter = pk.load(f)  "
   ]
  },
  {
   "cell_type": "code",
   "execution_count": 138,
   "id": "supreme-bermuda",
   "metadata": {},
   "outputs": [],
   "source": [
    "cat_list  = [k for k,v in cat_counter.most_common()[:23]]"
   ]
  },
  {
   "cell_type": "code",
   "execution_count": 139,
   "id": "parliamentary-investigator",
   "metadata": {},
   "outputs": [
    {
     "data": {
      "text/plain": [
       "[('n03770679', 'minivan'),\n",
       " ('n04285008', 'sports_car'),\n",
       " ('n03100240', 'convertible'),\n",
       " ('n02814533', 'beach_wagon'),\n",
       " ('n03930630', 'pickup'),\n",
       " ('n03670208', 'limousine'),\n",
       " ('n04037443', 'racer'),\n",
       " ('n02930766', 'cab'),\n",
       " ('n03594945', 'jeep'),\n",
       " ('n02974003', 'car_wheel'),\n",
       " ('n03459775', 'grille'),\n",
       " ('n04461696', 'tow_truck'),\n",
       " ('n03769881', 'minibus'),\n",
       " ('n03796401', 'moving_van'),\n",
       " ('n03977966', 'police_van'),\n",
       " ('n04065272', 'recreational_vehicle'),\n",
       " ('n02701002', 'ambulance'),\n",
       " ('n04252225', 'snowplow'),\n",
       " ('n03777568', 'Model_T'),\n",
       " ('n03445924', 'golfcart'),\n",
       " ('n04467665', 'trailer_truck'),\n",
       " ('n03417042', 'garbage_truck'),\n",
       " ('n03478589', 'half_track')]"
      ]
     },
     "execution_count": 139,
     "metadata": {},
     "output_type": "execute_result"
    }
   ],
   "source": [
    "cat_list"
   ]
  },
  {
   "cell_type": "markdown",
   "id": "straight-embassy",
   "metadata": {},
   "source": [
    "# First Check - car or not"
   ]
  },
  {
   "cell_type": "code",
   "execution_count": 141,
   "id": "amber-ready",
   "metadata": {},
   "outputs": [],
   "source": [
    "def car_categories_gate(image_path, cat_list):\n",
    "    img = prepare_image(image_path)\n",
    "    out = vgg16.predict(img)\n",
    "    top = get_predictions(out, top=5)\n",
    "    print (\"Validating that this is a picture of your car...\")\n",
    "    for j in top[0]:\n",
    "        if j[0:2] in cat_list: #searching in the category list -- use in\n",
    "            print (j[0:2])\n",
    "            return \"Validation complete - proceed to damage evaluation\"\n",
    "    return \"Are you sure this is a picture of your car? Please take another picture (try a different angle or lighting) and try again.\""
   ]
  },
  {
   "cell_type": "code",
   "execution_count": 142,
   "id": "endless-punishment",
   "metadata": {},
   "outputs": [
    {
     "name": "stdout",
     "output_type": "stream",
     "text": [
      "Validating that this is a picture of your car...\n",
      "('n03930630', 'pickup')\n"
     ]
    },
    {
     "data": {
      "text/plain": [
       "'Validation complete - proceed to damage evaluation'"
      ]
     },
     "execution_count": 142,
     "metadata": {},
     "output_type": "execute_result"
    }
   ],
   "source": [
    "car_categories_gate('/Users/rishitdholakia/Desktop/car.jpg', cat_list)"
   ]
  },
  {
   "cell_type": "code",
   "execution_count": 143,
   "id": "sustained-chance",
   "metadata": {},
   "outputs": [
    {
     "name": "stdout",
     "output_type": "stream",
     "text": [
      "Validating that this is a picture of your car...\n"
     ]
    },
    {
     "data": {
      "text/plain": [
       "'Are you sure this is a picture of your car? Please take another picture (try a different angle or lighting) and try again.'"
      ]
     },
     "execution_count": 143,
     "metadata": {},
     "output_type": "execute_result"
    }
   ],
   "source": [
    "car_categories_gate('/Users/rishitdholakia/Desktop/straight kitchen link in university city.jpg', cat_list)"
   ]
  },
  {
   "cell_type": "code",
   "execution_count": null,
   "id": "becoming-presentation",
   "metadata": {},
   "outputs": [],
   "source": []
  }
 ],
 "metadata": {
  "kernelspec": {
   "display_name": "Python 3",
   "language": "python",
   "name": "python3"
  },
  "language_info": {
   "codemirror_mode": {
    "name": "ipython",
    "version": 3
   },
   "file_extension": ".py",
   "mimetype": "text/x-python",
   "name": "python",
   "nbconvert_exporter": "python",
   "pygments_lexer": "ipython3",
   "version": "3.8.5"
  }
 },
 "nbformat": 4,
 "nbformat_minor": 5
}

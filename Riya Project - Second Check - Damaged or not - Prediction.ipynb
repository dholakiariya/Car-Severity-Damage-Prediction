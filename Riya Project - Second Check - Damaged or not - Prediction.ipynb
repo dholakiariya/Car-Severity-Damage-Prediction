{
 "cells": [
  {
   "cell_type": "code",
   "execution_count": 18,
   "metadata": {},
   "outputs": [],
   "source": [
    "# keras imports\n",
    "from keras.applications.vgg16 import VGG16, preprocess_input\n",
    "from keras.models import model_from_json\n",
    "from keras.preprocessing import image\n",
    "from keras.models import Model\n",
    "from keras.layers import Input\n",
    "\n",
    "# other imports\n",
    "from sklearn.linear_model import LogisticRegression\n",
    "import numpy as np\n",
    "import os\n",
    "import json\n",
    "import pickle"
   ]
  },
  {
   "cell_type": "code",
   "execution_count": 28,
   "metadata": {},
   "outputs": [],
   "source": [
    "config={\n",
    "  \"weights_path\"    : \"/Users/rishitdholakia/Desktop/Car Damage Detection project/Car Damage check/model0.2.h5\",\n",
    "  \"features_path\"   : \"/Users/rishitdholakia/Desktop/Car Damage Detection project/Car Damage check/features.h5\",\n",
    "  \"labels_path\"     : \"/Users/rishitdholakia/Desktop/Car Damage Detection project/Car Damage check/labels.h5\",\n",
    "  \"classifier_path\" : \"/Users/rishitdholakia/Desktop/Car Damage Detection project/Car Damage check/classifier.pickle\",\n",
    "  \"model_path\"      : \"/Users/rishitdholakia/Desktop/Car Damage Detection project/Car Damage check/model0.2.json\",\n",
    "  \"image_size\"      : (224, 224)\n",
    "}"
   ]
  },
  {
   "cell_type": "code",
   "execution_count": 24,
   "metadata": {},
   "outputs": [
    {
     "name": "stdout",
     "output_type": "stream",
     "text": [
      "[INFO] loading the classifier...\n"
     ]
    }
   ],
   "source": [
    "# load the trained logistic regression classifier\n",
    "print (\"[INFO] loading the classifier...\")\n",
    "classifier = pickle.load(open(config[\"classifier_path\"], 'rb'))"
   ]
  },
  {
   "cell_type": "code",
   "execution_count": 25,
   "metadata": {},
   "outputs": [],
   "source": [
    "#load saved model\n",
    "json_file = open(config[\"model_path\"], 'r')\n",
    "loaded_model_json = json_file.read()\n",
    "json_file.close()\n",
    "loaded_model = model_from_json(loaded_model_json)"
   ]
  },
  {
   "cell_type": "code",
   "execution_count": 26,
   "metadata": {},
   "outputs": [],
   "source": [
    "#load saved weights\n",
    "loaded_model.load_weights(config[\"weights_path\"])"
   ]
  },
  {
   "cell_type": "code",
   "execution_count": 56,
   "metadata": {},
   "outputs": [],
   "source": [
    "#read in the image, pre-proces the image and make predictions\n",
    "def check_damaged_or_not(imagepath):\n",
    "    ans=\"\"\n",
    "    img = image.load_img(imagepath, target_size=config[\"image_size\"])\n",
    "    x = image.img_to_array(img)\n",
    "    x = np.expand_dims(x, axis=0)\n",
    "    x = preprocess_input(x)\n",
    "    features = loaded_model.predict(x)\n",
    "    preds = classifier.predict(features)\n",
    "    if preds==1:\n",
    "        ans=\"Not Damaged\"\n",
    "    else:\n",
    "        ans=\"Damaged\"\n",
    "    return ans"
   ]
  },
  {
   "cell_type": "code",
   "execution_count": 57,
   "metadata": {},
   "outputs": [
    {
     "name": "stdout",
     "output_type": "stream",
     "text": [
      "Not Damaged\n"
     ]
    }
   ],
   "source": [
    "pred=check_damaged_or_not('/Users/rishitdholakia/Desktop/car.jpg')\n",
    "print(pred)"
   ]
  }
 ],
 "metadata": {
  "kernelspec": {
   "display_name": "Python 3",
   "language": "python",
   "name": "python3"
  },
  "language_info": {
   "codemirror_mode": {
    "name": "ipython",
    "version": 3
   },
   "file_extension": ".py",
   "mimetype": "text/x-python",
   "name": "python",
   "nbconvert_exporter": "python",
   "pygments_lexer": "ipython3",
   "version": "3.7.2"
  }
 },
 "nbformat": 4,
 "nbformat_minor": 2
}
